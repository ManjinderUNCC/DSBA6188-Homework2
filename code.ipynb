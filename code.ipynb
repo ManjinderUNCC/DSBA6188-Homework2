python3 -m prodigy textcat.manual homework2_manual data/homework2_train.jsonl --label RELEVANT,NOT_RELEVANT
